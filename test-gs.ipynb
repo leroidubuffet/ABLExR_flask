{
 "cells": [
  {
   "cell_type": "code",
   "execution_count": 1,
   "id": "24f6d085",
   "metadata": {},
   "outputs": [],
   "source": [
    "import gspread\n",
    "import pandas as pd\n",
    "import datetime\n",
    "\n",
    "gc = gspread.service_account()\n",
    "gs = gc.open(\"ABLExR-DATA\")\n",
    "wk = gs.get_worksheet(0)\n",
    "\n",
    "def get_data():\n",
    "    return pd.DataFrame(wk.get_all_records())\n",
    "\n",
    "def add_record(sesionId, reactionTime):\n",
    "    ethnicity = int(sesionId / 1000)\n",
    "    id = sesionId % 1000\n",
    "    now = datetime.datetime.now().strftime(\"%d-%m-%Y, %H:%M:%S\")\n",
    "    record = [id,ethnicity,reactionTime, now]\n",
    "    df.loc[len(df)] = record\n",
    "    wk.update([df.columns.values.tolist()] + df.values.tolist())\n",
    "\n",
    "df = get_data()"
   ]
  },
  {
   "cell_type": "code",
   "execution_count": 59,
   "id": "06bcc9b0",
   "metadata": {},
   "outputs": [
    {
     "data": {
      "text/html": [
       "<div>\n",
       "<style scoped>\n",
       "    .dataframe tbody tr th:only-of-type {\n",
       "        vertical-align: middle;\n",
       "    }\n",
       "\n",
       "    .dataframe tbody tr th {\n",
       "        vertical-align: top;\n",
       "    }\n",
       "\n",
       "    .dataframe thead th {\n",
       "        text-align: right;\n",
       "    }\n",
       "</style>\n",
       "<table border=\"1\" class=\"dataframe\">\n",
       "  <thead>\n",
       "    <tr style=\"text-align: right;\">\n",
       "      <th></th>\n",
       "      <th>Sesion ID</th>\n",
       "      <th>ethnicity</th>\n",
       "      <th>reaction</th>\n",
       "      <th>timestamp</th>\n",
       "    </tr>\n",
       "  </thead>\n",
       "  <tbody>\n",
       "    <tr>\n",
       "      <th>0</th>\n",
       "      <td>523</td>\n",
       "      <td>1</td>\n",
       "      <td>1000</td>\n",
       "      <td>03-07-2023, 13:07:17</td>\n",
       "    </tr>\n",
       "    <tr>\n",
       "      <th>1</th>\n",
       "      <td>523</td>\n",
       "      <td>1</td>\n",
       "      <td>1234</td>\n",
       "      <td>03-07-2023, 13:09:13</td>\n",
       "    </tr>\n",
       "    <tr>\n",
       "      <th>2</th>\n",
       "      <td>600</td>\n",
       "      <td>1</td>\n",
       "      <td>11234</td>\n",
       "      <td>03-07-2023, 13:09:50</td>\n",
       "    </tr>\n",
       "    <tr>\n",
       "      <th>3</th>\n",
       "      <td>600</td>\n",
       "      <td>1</td>\n",
       "      <td>11234</td>\n",
       "      <td>03-07-2023, 13:16:07</td>\n",
       "    </tr>\n",
       "    <tr>\n",
       "      <th>4</th>\n",
       "      <td>777</td>\n",
       "      <td>2</td>\n",
       "      <td>123123</td>\n",
       "      <td>03-07-2023, 13:17:57</td>\n",
       "    </tr>\n",
       "  </tbody>\n",
       "</table>\n",
       "</div>"
      ],
      "text/plain": [
       "   Sesion ID  ethnicity  reaction             timestamp\n",
       "0        523          1      1000  03-07-2023, 13:07:17\n",
       "1        523          1      1234  03-07-2023, 13:09:13\n",
       "2        600          1     11234  03-07-2023, 13:09:50\n",
       "3        600          1     11234  03-07-2023, 13:16:07\n",
       "4        777          2    123123  03-07-2023, 13:17:57"
      ]
     },
     "execution_count": 59,
     "metadata": {},
     "output_type": "execute_result"
    }
   ],
   "source": [
    "get_data()"
   ]
  },
  {
   "cell_type": "code",
   "execution_count": 60,
   "id": "6c93b2fe",
   "metadata": {},
   "outputs": [
    {
     "name": "stderr",
     "output_type": "stream",
     "text": [
      "/Users/miguel/Desktop/ABLExR_microserver/venv/lib/python3.11/site-packages/gspread/worksheet.py:1046: UserWarning: [Deprecated][in version 6.0.0]: method signature will change to: 'Worksheet.update(value = [[]], range_name=)' arguments 'range_name' and 'values' will swap, values will be mandatory of type: 'list(list(...))'\n",
      "  warnings.warn(\n"
     ]
    }
   ],
   "source": [
    "add_record(2778, 123123)"
   ]
  },
  {
   "cell_type": "code",
   "execution_count": 4,
   "id": "3655824c",
   "metadata": {},
   "outputs": [],
   "source": []
  },
  {
   "cell_type": "code",
   "execution_count": 5,
   "id": "5c0fb308",
   "metadata": {},
   "outputs": [],
   "source": []
  },
  {
   "cell_type": "code",
   "execution_count": 6,
   "id": "49393c38",
   "metadata": {},
   "outputs": [
    {
     "data": {
      "text/html": [
       "<div>\n",
       "<style scoped>\n",
       "    .dataframe tbody tr th:only-of-type {\n",
       "        vertical-align: middle;\n",
       "    }\n",
       "\n",
       "    .dataframe tbody tr th {\n",
       "        vertical-align: top;\n",
       "    }\n",
       "\n",
       "    .dataframe thead th {\n",
       "        text-align: right;\n",
       "    }\n",
       "</style>\n",
       "<table border=\"1\" class=\"dataframe\">\n",
       "  <thead>\n",
       "    <tr style=\"text-align: right;\">\n",
       "      <th></th>\n",
       "      <th>Sesion ID</th>\n",
       "      <th>ethinicity</th>\n",
       "      <th>Drescription</th>\n",
       "    </tr>\n",
       "  </thead>\n",
       "  <tbody>\n",
       "    <tr>\n",
       "      <th>0</th>\n",
       "      <td>123</td>\n",
       "      <td>1</td>\n",
       "      <td>Cleveland ABLE tests</td>\n",
       "    </tr>\n",
       "  </tbody>\n",
       "</table>\n",
       "</div>"
      ],
      "text/plain": [
       "   Sesion ID  ethinicity          Drescription\n",
       "0        123           1  Cleveland ABLE tests"
      ]
     },
     "execution_count": 6,
     "metadata": {},
     "output_type": "execute_result"
    }
   ],
   "source": [
    "df"
   ]
  },
  {
   "cell_type": "code",
   "execution_count": 9,
   "id": "fceabdba",
   "metadata": {},
   "outputs": [],
   "source": [
    "\n",
    "def add_session(sesionId, ethnicity, descripion=\"\"):\n",
    "    \n",
    "    wk = gs.get_worksheet(1)\n",
    "    df = pd.DataFrame(wk.get_all_records())\n",
    "    record = [sesionId,ethnicity,descripion]\n",
    "    df.loc[len(df)] = record\n",
    "    wk.update([df.columns.values.tolist()] + df.values.tolist())\n",
    "    "
   ]
  },
  {
   "cell_type": "code",
   "execution_count": 10,
   "id": "a291f0a9",
   "metadata": {},
   "outputs": [
    {
     "name": "stderr",
     "output_type": "stream",
     "text": [
      "/Users/miguel/Desktop/ABLExR_microserver/venv/lib/python3.11/site-packages/gspread/worksheet.py:1046: UserWarning: [Deprecated][in version 6.0.0]: method signature will change to: 'Worksheet.update(value = [[]], range_name=)' arguments 'range_name' and 'values' will swap, values will be mandatory of type: 'list(list(...))'\n",
      "  warnings.warn(\n"
     ]
    }
   ],
   "source": [
    "add_session(444, 1, \"DC\")"
   ]
  },
  {
   "cell_type": "code",
   "execution_count": null,
   "id": "b3818ea2",
   "metadata": {},
   "outputs": [],
   "source": []
  }
 ],
 "metadata": {
  "kernelspec": {
   "display_name": "Python 3 (ipykernel)",
   "language": "python",
   "name": "python3"
  },
  "language_info": {
   "codemirror_mode": {
    "name": "ipython",
    "version": 3
   },
   "file_extension": ".py",
   "mimetype": "text/x-python",
   "name": "python",
   "nbconvert_exporter": "python",
   "pygments_lexer": "ipython3",
   "version": "3.11.3"
  }
 },
 "nbformat": 4,
 "nbformat_minor": 5
}
