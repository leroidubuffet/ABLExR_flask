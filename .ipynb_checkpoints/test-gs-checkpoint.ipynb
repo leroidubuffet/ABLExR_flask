{
 "cells": [
  {
   "cell_type": "code",
   "execution_count": 48,
   "id": "24f6d085",
   "metadata": {},
   "outputs": [],
   "source": [
    "import gspread\n",
    "import pandas as pd\n",
    "import datetime\n",
    "\n",
    "gc = gspread.service_account()\n",
    "gs = gc.open(\"ABLExR-DATA\")\n",
    "wk = gs.get_worksheet(0)\n",
    "\n",
    "df = pd.DataFrame(wk.get_all_records())"
   ]
  },
  {
   "cell_type": "code",
   "execution_count": 53,
   "id": "cc828b1e",
   "metadata": {},
   "outputs": [],
   "source": [
    "def add_record(sesionId, reactionTime):\n",
    "    ethnicity = int(sesionId / 1000)\n",
    "    id = sesionId % 1000\n",
    "    now = datetime.datetime.now().strftime(\"%d-%m-%Y, %H:%M:%S\")\n",
    "    record = [id,ethnicity,reactionTime, now]\n",
    "    df.loc[len(df)] = record\n",
    "    wk.update([df.columns.values.tolist()] + df.values.tolist())"
   ]
  },
  {
   "cell_type": "code",
   "execution_count": 51,
   "id": "7e8117c3",
   "metadata": {},
   "outputs": [],
   "source": [
    "def get_data():\n",
    "    global df\n",
    "    df = pd.DataFrame(wk.get_all_records())\n"
   ]
  },
  {
   "cell_type": "code",
   "execution_count": 52,
   "id": "4e25c166",
   "metadata": {},
   "outputs": [],
   "source": [
    "refresh_data()"
   ]
  },
  {
   "cell_type": "code",
   "execution_count": null,
   "id": "d74a5128",
   "metadata": {},
   "outputs": [],
   "source": []
  }
 ],
 "metadata": {
  "kernelspec": {
   "display_name": "Python 3 (ipykernel)",
   "language": "python",
   "name": "python3"
  },
  "language_info": {
   "codemirror_mode": {
    "name": "ipython",
    "version": 3
   },
   "file_extension": ".py",
   "mimetype": "text/x-python",
   "name": "python",
   "nbconvert_exporter": "python",
   "pygments_lexer": "ipython3",
   "version": "3.11.3"
  }
 },
 "nbformat": 4,
 "nbformat_minor": 5
}
